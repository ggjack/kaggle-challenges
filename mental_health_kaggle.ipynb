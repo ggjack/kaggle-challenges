{
  "metadata": {
    "kernelspec": {
      "language": "python",
      "display_name": "Python 3",
      "name": "python3"
    },
    "language_info": {
      "name": "python",
      "version": "3.10.14",
      "mimetype": "text/x-python",
      "codemirror_mode": {
        "name": "ipython",
        "version": 3
      },
      "pygments_lexer": "ipython3",
      "nbconvert_exporter": "python",
      "file_extension": ".py"
    },
    "kaggle": {
      "accelerator": "none",
      "dataSources": [
        {
          "sourceId": 84895,
          "databundleVersionId": 10008389,
          "sourceType": "competition"
        }
      ],
      "dockerImageVersionId": 30786,
      "isInternetEnabled": false,
      "language": "python",
      "sourceType": "notebook",
      "isGpuEnabled": false
    },
    "colab": {
      "name": "mental-health-kaggle",
      "provenance": [],
      "toc_visible": true,
      "include_colab_link": true
    }
  },
  "nbformat_minor": 0,
  "nbformat": 4,
  "cells": [
    {
      "cell_type": "markdown",
      "metadata": {
        "id": "view-in-github",
        "colab_type": "text"
      },
      "source": [
        "<a href=\"https://colab.research.google.com/github/ggjack/kaggle-challenges/blob/main/mental_health_kaggle.ipynb\" target=\"_parent\"><img src=\"https://colab.research.google.com/assets/colab-badge.svg\" alt=\"Open In Colab\"/></a>"
      ]
    },
    {
      "source": [
        "# IMPORTANT: SOME KAGGLE DATA SOURCES ARE PRIVATE\n",
        "# RUN THIS CELL IN ORDER TO IMPORT YOUR KAGGLE DATA SOURCES.\n",
        "import kagglehub\n",
        "kagglehub.login()\n"
      ],
      "metadata": {
        "id": "LvBv1QB7ccuP"
      },
      "cell_type": "code",
      "outputs": [],
      "execution_count": null
    },
    {
      "source": [
        "# IMPORTANT: RUN THIS CELL IN ORDER TO IMPORT YOUR KAGGLE DATA SOURCES,\n",
        "# THEN FEEL FREE TO DELETE THIS CELL.\n",
        "# NOTE: THIS NOTEBOOK ENVIRONMENT DIFFERS FROM KAGGLE'S PYTHON\n",
        "# ENVIRONMENT SO THERE MAY BE MISSING LIBRARIES USED BY YOUR\n",
        "# NOTEBOOK.\n",
        "\n",
        "playground_series_s4e11_path = kagglehub.competition_download('playground-series-s4e11')\n",
        "\n",
        "print('Data source import complete.')\n"
      ],
      "metadata": {
        "id": "GWPVZiZ6ccuQ"
      },
      "cell_type": "code",
      "outputs": [],
      "execution_count": null
    },
    {
      "cell_type": "code",
      "source": [
        "# This Python 3 environment comes with many helpful analytics libraries installed\n",
        "# It is defined by the kaggle/python Docker image: https://github.com/kaggle/docker-python\n",
        "# For example, here's several helpful packages to load\n",
        "\n",
        "import numpy as np # linear algebra\n",
        "import pandas as pd # data processing, CSV file I/O (e.g. pd.read_csv)\n",
        "from matplotlib import pyplot as plt\n",
        "\n",
        "# Input data files are available in the read-only \"../input/\" directory\n",
        "# For example, running this (by clicking run or pressing Shift+Enter) will list all files under the input directory\n",
        "\n",
        "import os\n",
        "for dirname, _, filenames in os.walk('/kaggle/input'):\n",
        "    for filename in filenames:\n",
        "        print(os.path.join(dirname, filename))\n",
        "\n",
        "# You can write up to 20GB to the current directory (/kaggle/working/) that gets preserved as output when you create a version using \"Save & Run All\"\n",
        "# You can also write temporary files to /kaggle/temp/, but they won't be saved outside of the current session"
      ],
      "metadata": {
        "_uuid": "8f2839f25d086af736a60e9eeb907d3b93b6e0e5",
        "_cell_guid": "b1076dfc-b9ad-4769-8c92-a6c4dae69d19",
        "trusted": true,
        "execution": {
          "iopub.status.busy": "2024-11-26T20:06:16.232591Z",
          "iopub.execute_input": "2024-11-26T20:06:16.233021Z",
          "iopub.status.idle": "2024-11-26T20:06:17.599807Z",
          "shell.execute_reply.started": "2024-11-26T20:06:16.232969Z",
          "shell.execute_reply": "2024-11-26T20:06:17.598329Z"
        },
        "id": "w-tMPvniccuQ",
        "outputId": "2e137c55-8e3c-428d-e59b-f8355a4f973e"
      },
      "outputs": [
        {
          "name": "stdout",
          "text": "/kaggle/input/playground-series-s4e11/sample_submission.csv\n/kaggle/input/playground-series-s4e11/train.csv\n/kaggle/input/playground-series-s4e11/test.csv\n",
          "output_type": "stream"
        }
      ],
      "execution_count": null
    },
    {
      "cell_type": "code",
      "source": [
        "train = pd.read_csv(\"/kaggle/input/playground-series-s4e11/train.csv\")\n",
        "test = pd.read_csv(\"/kaggle/input/playground-series-s4e11/test.csv\")\n",
        "\n",
        "train.describe()"
      ],
      "metadata": {
        "trusted": true,
        "execution": {
          "iopub.status.busy": "2024-11-26T20:07:35.631675Z",
          "iopub.execute_input": "2024-11-26T20:07:35.632078Z",
          "iopub.status.idle": "2024-11-26T20:07:36.357861Z",
          "shell.execute_reply.started": "2024-11-26T20:07:35.632042Z",
          "shell.execute_reply": "2024-11-26T20:07:36.356357Z"
        },
        "id": "5OdhgJK2ccuR",
        "outputId": "31dc76b7-e55b-4144-e31b-bb767b282901"
      },
      "outputs": [
        {
          "execution_count": 4,
          "output_type": "execute_result",
          "data": {
            "text/plain": "                  id            Age  Academic Pressure  Work Pressure  \\\ncount  140700.000000  140700.000000       27897.000000  112782.000000   \nmean    70349.500000      40.388621           3.142273       2.998998   \nstd     40616.735775      12.384099           1.380457       1.405771   \nmin         0.000000      18.000000           1.000000       1.000000   \n25%     35174.750000      29.000000           2.000000       2.000000   \n50%     70349.500000      42.000000           3.000000       3.000000   \n75%    105524.250000      51.000000           4.000000       4.000000   \nmax    140699.000000      60.000000           5.000000       5.000000   \n\n               CGPA  Study Satisfaction  Job Satisfaction  Work/Study Hours  \\\ncount  27898.000000        27897.000000     112790.000000     140700.000000   \nmean       7.658636            2.944940          2.974404          6.252679   \nstd        1.464466            1.360197          1.416078          3.853615   \nmin        5.030000            1.000000          1.000000          0.000000   \n25%        6.290000            2.000000          2.000000          3.000000   \n50%        7.770000            3.000000          3.000000          6.000000   \n75%        8.920000            4.000000          4.000000         10.000000   \nmax       10.000000            5.000000          5.000000         12.000000   \n\n       Financial Stress     Depression  \ncount     140696.000000  140700.000000  \nmean           2.988983       0.181713  \nstd            1.413633       0.385609  \nmin            1.000000       0.000000  \n25%            2.000000       0.000000  \n50%            3.000000       0.000000  \n75%            4.000000       0.000000  \nmax            5.000000       1.000000  ",
            "text/html": "<div>\n<style scoped>\n    .dataframe tbody tr th:only-of-type {\n        vertical-align: middle;\n    }\n\n    .dataframe tbody tr th {\n        vertical-align: top;\n    }\n\n    .dataframe thead th {\n        text-align: right;\n    }\n</style>\n<table border=\"1\" class=\"dataframe\">\n  <thead>\n    <tr style=\"text-align: right;\">\n      <th></th>\n      <th>id</th>\n      <th>Age</th>\n      <th>Academic Pressure</th>\n      <th>Work Pressure</th>\n      <th>CGPA</th>\n      <th>Study Satisfaction</th>\n      <th>Job Satisfaction</th>\n      <th>Work/Study Hours</th>\n      <th>Financial Stress</th>\n      <th>Depression</th>\n    </tr>\n  </thead>\n  <tbody>\n    <tr>\n      <th>count</th>\n      <td>140700.000000</td>\n      <td>140700.000000</td>\n      <td>27897.000000</td>\n      <td>112782.000000</td>\n      <td>27898.000000</td>\n      <td>27897.000000</td>\n      <td>112790.000000</td>\n      <td>140700.000000</td>\n      <td>140696.000000</td>\n      <td>140700.000000</td>\n    </tr>\n    <tr>\n      <th>mean</th>\n      <td>70349.500000</td>\n      <td>40.388621</td>\n      <td>3.142273</td>\n      <td>2.998998</td>\n      <td>7.658636</td>\n      <td>2.944940</td>\n      <td>2.974404</td>\n      <td>6.252679</td>\n      <td>2.988983</td>\n      <td>0.181713</td>\n    </tr>\n    <tr>\n      <th>std</th>\n      <td>40616.735775</td>\n      <td>12.384099</td>\n      <td>1.380457</td>\n      <td>1.405771</td>\n      <td>1.464466</td>\n      <td>1.360197</td>\n      <td>1.416078</td>\n      <td>3.853615</td>\n      <td>1.413633</td>\n      <td>0.385609</td>\n    </tr>\n    <tr>\n      <th>min</th>\n      <td>0.000000</td>\n      <td>18.000000</td>\n      <td>1.000000</td>\n      <td>1.000000</td>\n      <td>5.030000</td>\n      <td>1.000000</td>\n      <td>1.000000</td>\n      <td>0.000000</td>\n      <td>1.000000</td>\n      <td>0.000000</td>\n    </tr>\n    <tr>\n      <th>25%</th>\n      <td>35174.750000</td>\n      <td>29.000000</td>\n      <td>2.000000</td>\n      <td>2.000000</td>\n      <td>6.290000</td>\n      <td>2.000000</td>\n      <td>2.000000</td>\n      <td>3.000000</td>\n      <td>2.000000</td>\n      <td>0.000000</td>\n    </tr>\n    <tr>\n      <th>50%</th>\n      <td>70349.500000</td>\n      <td>42.000000</td>\n      <td>3.000000</td>\n      <td>3.000000</td>\n      <td>7.770000</td>\n      <td>3.000000</td>\n      <td>3.000000</td>\n      <td>6.000000</td>\n      <td>3.000000</td>\n      <td>0.000000</td>\n    </tr>\n    <tr>\n      <th>75%</th>\n      <td>105524.250000</td>\n      <td>51.000000</td>\n      <td>4.000000</td>\n      <td>4.000000</td>\n      <td>8.920000</td>\n      <td>4.000000</td>\n      <td>4.000000</td>\n      <td>10.000000</td>\n      <td>4.000000</td>\n      <td>0.000000</td>\n    </tr>\n    <tr>\n      <th>max</th>\n      <td>140699.000000</td>\n      <td>60.000000</td>\n      <td>5.000000</td>\n      <td>5.000000</td>\n      <td>10.000000</td>\n      <td>5.000000</td>\n      <td>5.000000</td>\n      <td>12.000000</td>\n      <td>5.000000</td>\n      <td>1.000000</td>\n    </tr>\n  </tbody>\n</table>\n</div>"
          },
          "metadata": {}
        }
      ],
      "execution_count": null
    },
    {
      "cell_type": "code",
      "source": [
        "test.describe()"
      ],
      "metadata": {
        "trusted": true,
        "execution": {
          "iopub.status.busy": "2024-11-26T20:07:33.34836Z",
          "iopub.execute_input": "2024-11-26T20:07:33.348862Z",
          "iopub.status.idle": "2024-11-26T20:07:33.440525Z",
          "shell.execute_reply.started": "2024-11-26T20:07:33.348815Z",
          "shell.execute_reply": "2024-11-26T20:07:33.439102Z"
        },
        "id": "AQvGe53TccuR",
        "outputId": "0dbc8df8-ae3d-4080-8ef8-91e70ca5fc6d"
      },
      "outputs": [
        {
          "execution_count": 3,
          "output_type": "execute_result",
          "data": {
            "text/plain": "                  id           Age  Academic Pressure  Work Pressure  \\\ncount   93800.000000  93800.000000       18767.000000   75022.000000   \nmean   187599.500000     40.321685           3.158576       3.011797   \nstd     27077.871962     12.393480           1.386666       1.403563   \nmin    140700.000000     18.000000           1.000000       1.000000   \n25%    164149.750000     29.000000           2.000000       2.000000   \n50%    187599.500000     42.000000           3.000000       3.000000   \n75%    211049.250000     51.000000           4.000000       4.000000   \nmax    234499.000000     60.000000           5.000000       5.000000   \n\n               CGPA  Study Satisfaction  Job Satisfaction  Work/Study Hours  \\\ncount  18766.000000        18767.000000       75026.00000      93800.000000   \nmean       7.674016            2.939522           2.96092          6.247335   \nstd        1.465056            1.374242           1.41071          3.858191   \nmin        5.030000            1.000000           1.00000          0.000000   \n25%        6.330000            2.000000           2.00000          3.000000   \n50%        7.800000            3.000000           3.00000          6.000000   \n75%        8.940000            4.000000           4.00000         10.000000   \nmax       10.000000            5.000000           5.00000         12.000000   \n\n       Financial Stress  \ncount      93800.000000  \nmean           2.978763  \nstd            1.414604  \nmin            1.000000  \n25%            2.000000  \n50%            3.000000  \n75%            4.000000  \nmax            5.000000  ",
            "text/html": "<div>\n<style scoped>\n    .dataframe tbody tr th:only-of-type {\n        vertical-align: middle;\n    }\n\n    .dataframe tbody tr th {\n        vertical-align: top;\n    }\n\n    .dataframe thead th {\n        text-align: right;\n    }\n</style>\n<table border=\"1\" class=\"dataframe\">\n  <thead>\n    <tr style=\"text-align: right;\">\n      <th></th>\n      <th>id</th>\n      <th>Age</th>\n      <th>Academic Pressure</th>\n      <th>Work Pressure</th>\n      <th>CGPA</th>\n      <th>Study Satisfaction</th>\n      <th>Job Satisfaction</th>\n      <th>Work/Study Hours</th>\n      <th>Financial Stress</th>\n    </tr>\n  </thead>\n  <tbody>\n    <tr>\n      <th>count</th>\n      <td>93800.000000</td>\n      <td>93800.000000</td>\n      <td>18767.000000</td>\n      <td>75022.000000</td>\n      <td>18766.000000</td>\n      <td>18767.000000</td>\n      <td>75026.00000</td>\n      <td>93800.000000</td>\n      <td>93800.000000</td>\n    </tr>\n    <tr>\n      <th>mean</th>\n      <td>187599.500000</td>\n      <td>40.321685</td>\n      <td>3.158576</td>\n      <td>3.011797</td>\n      <td>7.674016</td>\n      <td>2.939522</td>\n      <td>2.96092</td>\n      <td>6.247335</td>\n      <td>2.978763</td>\n    </tr>\n    <tr>\n      <th>std</th>\n      <td>27077.871962</td>\n      <td>12.393480</td>\n      <td>1.386666</td>\n      <td>1.403563</td>\n      <td>1.465056</td>\n      <td>1.374242</td>\n      <td>1.41071</td>\n      <td>3.858191</td>\n      <td>1.414604</td>\n    </tr>\n    <tr>\n      <th>min</th>\n      <td>140700.000000</td>\n      <td>18.000000</td>\n      <td>1.000000</td>\n      <td>1.000000</td>\n      <td>5.030000</td>\n      <td>1.000000</td>\n      <td>1.00000</td>\n      <td>0.000000</td>\n      <td>1.000000</td>\n    </tr>\n    <tr>\n      <th>25%</th>\n      <td>164149.750000</td>\n      <td>29.000000</td>\n      <td>2.000000</td>\n      <td>2.000000</td>\n      <td>6.330000</td>\n      <td>2.000000</td>\n      <td>2.00000</td>\n      <td>3.000000</td>\n      <td>2.000000</td>\n    </tr>\n    <tr>\n      <th>50%</th>\n      <td>187599.500000</td>\n      <td>42.000000</td>\n      <td>3.000000</td>\n      <td>3.000000</td>\n      <td>7.800000</td>\n      <td>3.000000</td>\n      <td>3.00000</td>\n      <td>6.000000</td>\n      <td>3.000000</td>\n    </tr>\n    <tr>\n      <th>75%</th>\n      <td>211049.250000</td>\n      <td>51.000000</td>\n      <td>4.000000</td>\n      <td>4.000000</td>\n      <td>8.940000</td>\n      <td>4.000000</td>\n      <td>4.00000</td>\n      <td>10.000000</td>\n      <td>4.000000</td>\n    </tr>\n    <tr>\n      <th>max</th>\n      <td>234499.000000</td>\n      <td>60.000000</td>\n      <td>5.000000</td>\n      <td>5.000000</td>\n      <td>10.000000</td>\n      <td>5.000000</td>\n      <td>5.00000</td>\n      <td>12.000000</td>\n      <td>5.000000</td>\n    </tr>\n  </tbody>\n</table>\n</div>"
          },
          "metadata": {}
        }
      ],
      "execution_count": null
    },
    {
      "cell_type": "code",
      "source": [
        "print(train.columns)\n",
        "student_only_cols = [\n",
        "    \"Academic Pressure\",\n",
        "    \"CGPA\",\n",
        "    \"Study Satisfaction\",\n",
        "]\n",
        "\n",
        "work_only_cols = [\n",
        "    \"Profession\",\n",
        "    \"Work Pressure\",\n",
        "    \"Job Satisfaction\",\n",
        "]"
      ],
      "metadata": {
        "trusted": true,
        "execution": {
          "iopub.status.busy": "2024-11-26T20:41:36.111792Z",
          "iopub.execute_input": "2024-11-26T20:41:36.112174Z",
          "iopub.status.idle": "2024-11-26T20:41:36.118666Z",
          "shell.execute_reply.started": "2024-11-26T20:41:36.11214Z",
          "shell.execute_reply": "2024-11-26T20:41:36.117439Z"
        },
        "id": "pN9jfKxxccuR",
        "outputId": "cd1ef7f4-0636-41b9-df4a-584d4cb7302c"
      },
      "outputs": [
        {
          "name": "stdout",
          "text": "Index(['id', 'Name', 'Gender', 'Age', 'City',\n       'Working Professional or Student', 'Profession', 'Academic Pressure',\n       'Work Pressure', 'CGPA', 'Study Satisfaction', 'Job Satisfaction',\n       'Sleep Duration', 'Dietary Habits', 'Degree',\n       'Have you ever had suicidal thoughts ?', 'Work/Study Hours',\n       'Financial Stress', 'Family History of Mental Illness', 'Depression'],\n      dtype='object')\n",
          "output_type": "stream"
        }
      ],
      "execution_count": null
    },
    {
      "cell_type": "code",
      "source": [
        "train.head"
      ],
      "metadata": {
        "trusted": true,
        "execution": {
          "iopub.status.busy": "2024-11-26T20:34:17.848657Z",
          "iopub.execute_input": "2024-11-26T20:34:17.849158Z",
          "iopub.status.idle": "2024-11-26T20:34:17.872086Z",
          "shell.execute_reply.started": "2024-11-26T20:34:17.849114Z",
          "shell.execute_reply": "2024-11-26T20:34:17.870872Z"
        },
        "id": "5QjTHsYvccuS",
        "outputId": "efe0564d-c973-4c7a-91cc-ae5bcaa6777e"
      },
      "outputs": [
        {
          "execution_count": 6,
          "output_type": "execute_result",
          "data": {
            "text/plain": "<bound method NDFrame.head of             id      Name  Gender   Age           City  \\\n0            0  Aaradhya  Female  49.0       Ludhiana   \n1            1     Vivan    Male  26.0       Varanasi   \n2            2    Yuvraj    Male  33.0  Visakhapatnam   \n3            3    Yuvraj    Male  22.0         Mumbai   \n4            4      Rhea  Female  30.0         Kanpur   \n...        ...       ...     ...   ...            ...   \n140695  140695     Vidya  Female  18.0      Ahmedabad   \n140696  140696      Lata  Female  41.0      Hyderabad   \n140697  140697   Aanchal  Female  24.0        Kolkata   \n140698  140698    Prachi  Female  49.0       Srinagar   \n140699  140699       Sai    Male  27.0          Patna   \n\n       Working Professional or Student         Profession  Academic Pressure  \\\n0                 Working Professional               Chef                NaN   \n1                 Working Professional            Teacher                NaN   \n2                              Student                NaN                5.0   \n3                 Working Professional            Teacher                NaN   \n4                 Working Professional   Business Analyst                NaN   \n...                                ...                ...                ...   \n140695            Working Professional                NaN                NaN   \n140696            Working Professional     Content Writer                NaN   \n140697            Working Professional  Marketing Manager                NaN   \n140698            Working Professional            Plumber                NaN   \n140699                         Student                NaN                4.0   \n\n        Work Pressure  CGPA  Study Satisfaction  Job Satisfaction  \\\n0                 5.0   NaN                 NaN               2.0   \n1                 4.0   NaN                 NaN               3.0   \n2                 NaN  8.97                 2.0               NaN   \n3                 5.0   NaN                 NaN               1.0   \n4                 1.0   NaN                 NaN               1.0   \n...               ...   ...                 ...               ...   \n140695            5.0   NaN                 NaN               4.0   \n140696            5.0   NaN                 NaN               4.0   \n140697            3.0   NaN                 NaN               1.0   \n140698            5.0   NaN                 NaN               2.0   \n140699            NaN  9.24                 1.0               NaN   \n\n           Sleep Duration Dietary Habits    Degree  \\\n0       More than 8 hours        Healthy       BHM   \n1       Less than 5 hours      Unhealthy       LLB   \n2               5-6 hours        Healthy   B.Pharm   \n3       Less than 5 hours       Moderate       BBA   \n4               5-6 hours      Unhealthy       BBA   \n...                   ...            ...       ...   \n140695          5-6 hours      Unhealthy  Class 12   \n140696          7-8 hours       Moderate    B.Tech   \n140697  More than 8 hours       Moderate     B.Com   \n140698          5-6 hours       Moderate        ME   \n140699  Less than 5 hours        Healthy       BCA   \n\n       Have you ever had suicidal thoughts ?  Work/Study Hours  \\\n0                                         No               1.0   \n1                                        Yes               7.0   \n2                                        Yes               3.0   \n3                                        Yes              10.0   \n4                                        Yes               9.0   \n...                                      ...               ...   \n140695                                    No               2.0   \n140696                                   Yes               6.0   \n140697                                    No               4.0   \n140698                                   Yes              10.0   \n140699                                   Yes               2.0   \n\n        Financial Stress Family History of Mental Illness  Depression  \n0                    2.0                               No           0  \n1                    3.0                               No           1  \n2                    1.0                               No           1  \n3                    1.0                              Yes           1  \n4                    4.0                              Yes           0  \n...                  ...                              ...         ...  \n140695               4.0                              Yes           1  \n140696               5.0                              Yes           0  \n140697               4.0                               No           0  \n140698               1.0                               No           0  \n140699               3.0                              Yes           1  \n\n[140700 rows x 20 columns]>"
          },
          "metadata": {}
        }
      ],
      "execution_count": null
    },
    {
      "cell_type": "code",
      "source": [
        "\n",
        "for column in train.columns:\n",
        "    print(f\"col '{column}' {len(train[column].unique())} unique values\")"
      ],
      "metadata": {
        "trusted": true,
        "execution": {
          "iopub.status.busy": "2024-11-26T20:49:32.038467Z",
          "iopub.execute_input": "2024-11-26T20:49:32.038845Z",
          "iopub.status.idle": "2024-11-26T20:49:32.143408Z",
          "shell.execute_reply.started": "2024-11-26T20:49:32.038811Z",
          "shell.execute_reply": "2024-11-26T20:49:32.142229Z"
        },
        "id": "OEbZC6VAccuS",
        "outputId": "d00aebd9-bc56-48b9-87fa-8e8749222bc6"
      },
      "outputs": [
        {
          "name": "stdout",
          "text": "col 'id' 140700 unique values\ncol 'Name' 422 unique values\ncol 'Gender' 2 unique values\ncol 'Age' 43 unique values\ncol 'City' 98 unique values\ncol 'Working Professional or Student' 2 unique values\ncol 'Profession' 65 unique values\ncol 'Academic Pressure' 6 unique values\ncol 'Work Pressure' 6 unique values\ncol 'CGPA' 332 unique values\ncol 'Study Satisfaction' 6 unique values\ncol 'Job Satisfaction' 6 unique values\ncol 'Sleep Duration' 36 unique values\ncol 'Dietary Habits' 24 unique values\ncol 'Degree' 116 unique values\ncol 'Have you ever had suicidal thoughts ?' 2 unique values\ncol 'Work/Study Hours' 13 unique values\ncol 'Financial Stress' 6 unique values\ncol 'Family History of Mental Illness' 2 unique values\ncol 'Depression' 2 unique values\n",
          "output_type": "stream"
        }
      ],
      "execution_count": null
    },
    {
      "cell_type": "markdown",
      "source": [
        "TODO:\n",
        "- figure out categorical -> one hot encoding\n",
        "- numerical categorical -> estimated numerical value\n",
        "- how to handle student only and work only fields\n",
        "\n",
        "low priority:\n",
        "- data scrubbing, some work profession has student, should convert either to or from student only row\n",
        "- take a look at outliers and such"
      ],
      "metadata": {
        "id": "qRox4VcuccuS"
      }
    }
  ]
}